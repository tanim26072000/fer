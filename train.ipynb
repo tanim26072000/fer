{
 "cells": [
  {
   "cell_type": "code",
   "execution_count": 1,
   "metadata": {},
   "outputs": [],
   "source": [
    "import numpy as np\n",
    "import pandas as pd\n",
    "import tensorflow as tf\n",
    "from keras.models import Sequential\n",
    "from keras.layers import Conv2D, MaxPooling2D, Flatten, Dense, Dropout\n",
    "from sklearn.model_selection import train_test_split\n"
   ]
  },
  {
   "cell_type": "code",
   "execution_count": 2,
   "metadata": {},
   "outputs": [
    {
     "name": "stdout",
     "output_type": "stream",
     "text": [
      "Epoch 1/10\n",
      "449/449 [==============================] - 37s 80ms/step - loss: 1.7433 - accuracy: 0.2979 - val_loss: 1.5911 - val_accuracy: 0.3973\n",
      "Epoch 2/10\n",
      "449/449 [==============================] - 37s 82ms/step - loss: 1.5696 - accuracy: 0.3909 - val_loss: 1.4705 - val_accuracy: 0.4331\n",
      "Epoch 3/10\n",
      "449/449 [==============================] - 33s 74ms/step - loss: 1.4787 - accuracy: 0.4323 - val_loss: 1.4302 - val_accuracy: 0.4437\n",
      "Epoch 4/10\n",
      "449/449 [==============================] - 37s 83ms/step - loss: 1.4280 - accuracy: 0.4508 - val_loss: 1.3736 - val_accuracy: 0.4698\n",
      "Epoch 5/10\n",
      "449/449 [==============================] - 36s 80ms/step - loss: 1.3873 - accuracy: 0.4642 - val_loss: 1.3310 - val_accuracy: 0.4922\n",
      "Epoch 6/10\n",
      "449/449 [==============================] - 36s 79ms/step - loss: 1.3539 - accuracy: 0.4835 - val_loss: 1.3007 - val_accuracy: 0.5116\n",
      "Epoch 7/10\n",
      "449/449 [==============================] - 36s 79ms/step - loss: 1.3218 - accuracy: 0.4941 - val_loss: 1.2785 - val_accuracy: 0.5131\n",
      "Epoch 8/10\n",
      "449/449 [==============================] - 36s 81ms/step - loss: 1.2923 - accuracy: 0.5027 - val_loss: 1.2781 - val_accuracy: 0.5177\n",
      "Epoch 9/10\n",
      "449/449 [==============================] - 36s 80ms/step - loss: 1.2687 - accuracy: 0.5164 - val_loss: 1.2449 - val_accuracy: 0.5265\n",
      "Epoch 10/10\n",
      "449/449 [==============================] - 35s 78ms/step - loss: 1.2514 - accuracy: 0.5236 - val_loss: 1.2380 - val_accuracy: 0.5347\n",
      "225/225 [==============================] - 2s 10ms/step - loss: 1.2380 - accuracy: 0.5347\n",
      "Validation Accuracy: 0.5346893072128296\n",
      "model saved\n"
     ]
    },
    {
     "name": "stderr",
     "output_type": "stream",
     "text": [
      "c:\\Users\\tanim\\AppData\\Local\\Programs\\Python\\Python311\\Lib\\site-packages\\keras\\src\\engine\\training.py:3000: UserWarning: You are saving your model as an HDF5 file via `model.save()`. This file format is considered legacy. We recommend using instead the native Keras format, e.g. `model.save('my_model.keras')`.\n",
      "  saving_api.save_model(\n"
     ]
    }
   ],
   "source": [
    "# Step 2: Load the FER-2013 dataset\n",
    "# Load the FER-2013 dataset CSV file\n",
    "data = pd.read_csv('fer2013.csv')\n",
    "\n",
    "# Preprocess the data: extract images and labels, and reshape the images\n",
    "X = np.array(list(data['pixels']))\n",
    "X = np.array([np.fromstring(image, dtype=int, sep=' ') for image in X])\n",
    "X = X.reshape(X.shape[0], 48, 48, 1).astype('float32')\n",
    "X /= 255.0  # Normalize pixel values to [0, 1]\n",
    "\n",
    "y = data['emotion'].values\n",
    "\n",
    "# Step 3: Split the dataset into training and validation sets\n",
    "X_train, X_valid, y_train, y_valid = train_test_split(X, y, test_size=0.2, random_state=42)\n",
    "\n",
    "# Step 4: Define the CNN model\n",
    "model = Sequential()\n",
    "model.add(Conv2D(32, kernel_size=(3, 3), activation='relu', input_shape=(48, 48, 1)))\n",
    "model.add(MaxPooling2D(pool_size=(2, 2)))\n",
    "model.add(Dropout(0.25))\n",
    "\n",
    "model.add(Conv2D(64, kernel_size=(3, 3), activation='relu'))\n",
    "model.add(MaxPooling2D(pool_size=(2, 2)))\n",
    "model.add(Dropout(0.25))\n",
    "\n",
    "model.add(Flatten())\n",
    "model.add(Dense(128, activation='relu'))\n",
    "model.add(Dropout(0.5))\n",
    "model.add(Dense(7, activation='softmax'))  # 7 output classes (7 emotions)\n",
    "\n",
    "# Step 5: Compile and train the model\n",
    "model.compile(loss='sparse_categorical_crossentropy', optimizer='adam', metrics=['accuracy'])\n",
    "model.fit(X_train, y_train, batch_size=64, epochs=10, validation_data=(X_valid, y_valid))\n",
    "\n",
    "# Step 6: Evaluate the model\n",
    "model.save('facial_emotion_model_2.h5')\n",
    "print('model saved')\n"
   ]
  },
  {
   "cell_type": "code",
   "execution_count": 3,
   "metadata": {},
   "outputs": [
    {
     "name": "stdout",
     "output_type": "stream",
     "text": [
      "225/225 [==============================] - 2s 8ms/step - loss: 1.2380 - accuracy: 0.5347\n",
      "Validation Accuracy: 0.5346893072128296\n"
     ]
    }
   ],
   "source": [
    "loss, accuracy = model.evaluate(X_valid, y_valid)\n",
    "print(\"Validation Accuracy:\", accuracy)"
   ]
  }
 ],
 "metadata": {
  "kernelspec": {
   "display_name": "Python 3",
   "language": "python",
   "name": "python3"
  },
  "language_info": {
   "codemirror_mode": {
    "name": "ipython",
    "version": 3
   },
   "file_extension": ".py",
   "mimetype": "text/x-python",
   "name": "python",
   "nbconvert_exporter": "python",
   "pygments_lexer": "ipython3",
   "version": "3.11.4"
  },
  "orig_nbformat": 4
 },
 "nbformat": 4,
 "nbformat_minor": 2
}
